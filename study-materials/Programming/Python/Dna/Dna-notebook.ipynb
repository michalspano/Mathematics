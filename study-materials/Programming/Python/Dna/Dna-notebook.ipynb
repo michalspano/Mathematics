{
 "cells": [
  {
   "cell_type": "markdown",
   "source": [
    "# DNA Identification in Python\n",
    "## A program capable of identifying a person based on their DNA."
   ],
   "metadata": {}
  },
  {
   "cell_type": "code",
   "execution_count": 1,
   "source": [
    "# Import libraries to be used\n",
    "import csv\n",
    "\n",
    "from sys import argv, exit"
   ],
   "outputs": [],
   "metadata": {}
  },
  {
   "cell_type": "markdown",
   "source": [
    "__NOTE:__ Using _manually generated_ `argv` of type list of arguments instead of `sys.argv` for simplicity.\n",
    "\n",
    "[Jupyter Notebook and Command-line arguments possible solution](https://gist.github.com/gbishop/acf40b86a9bca2d571fa)"
   ],
   "metadata": {}
  },
  {
   "cell_type": "code",
   "execution_count": 2,
   "source": [
    "argv: list = [\"dna.py\", input(\"Database: \"), input(\"Sequence: \")]"
   ],
   "outputs": [],
   "metadata": {}
  },
  {
   "cell_type": "markdown",
   "source": [
    "### Using command line arguments\n",
    "__Usage:__\n",
    "\n",
    "```shell\n",
    "$ python3 dna.py $DATABASE $SEQUENCE\n",
    "```"
   ],
   "metadata": {}
  },
  {
   "cell_type": "code",
   "execution_count": 3,
   "source": [
    "if len(argv) != 3:\n",
    "    print(\"Usage: python3 dna.py $DATABASE $SEQUENCE\")\n",
    "\n",
    "    # Exit with an error and code 1\n",
    "    exit(1)"
   ],
   "outputs": [],
   "metadata": {}
  },
  {
   "cell_type": "markdown",
   "source": [
    "### A check is needed to determine valid file selection\n",
    "\n",
    "1. __Command line-argument__ - `database_path` of type `.csv`\n",
    "\n",
    "2. __Command line-argument__ - `sequence_path` of type `.txt`\n",
    "\n",
    "_Otherwise error_"
   ],
   "metadata": {}
  },
  {
   "cell_type": "code",
   "execution_count": 4,
   "source": [
    "database_path, sequence_path = argv[1], argv[2]\n",
    "file_ext1, file_ext2 = database_path.split(\".\")[1], sequence_path.split(\".\")[1]"
   ],
   "outputs": [],
   "metadata": {}
  },
  {
   "cell_type": "markdown",
   "source": [
    "### A check for valid file extensions"
   ],
   "metadata": {}
  },
  {
   "cell_type": "code",
   "execution_count": 5,
   "source": [
    "if file_ext1 != \"csv\" or file_ext2 != \"txt\":\n",
    "    print(\"Usage: python3 dna.py $DATABASE[.csv] $SEQUENCE[.txt]\")\n",
    "\n",
    "    # Exit with an error and code 1\n",
    "    exit(1)"
   ],
   "outputs": [],
   "metadata": {}
  },
  {
   "cell_type": "markdown",
   "source": [
    "### Define a function to prompt the user with an error message of file's path"
   ],
   "metadata": {}
  },
  {
   "cell_type": "code",
   "execution_count": 6,
   "source": [
    "def file_error(path):\n",
    "    print(f\"Could not open {path}\")\n",
    "    exit(1)\n"
   ],
   "outputs": [],
   "metadata": {}
  },
  {
   "cell_type": "markdown",
   "source": [
    "### Compute function is supposd to return the longest chain created from a given nucleotide"
   ],
   "metadata": {}
  },
  {
   "cell_type": "code",
   "execution_count": 7,
   "source": [
    "# Create a function to perform the computations of alike chains of STRs\n",
    "def compute(sequence, nucleotide) -> int:\n",
    "\n",
    "    # Get the length of the corresponding nucleotide\n",
    "    n = len(nucleotide)\n",
    "\n",
    "    # Create a list to store all computed sums of a specific nucleotide (default value of 0 since not counter could\n",
    "    # be computed - cause of crash)\n",
    "    counters: list = [0]\n",
    "\n",
    "    # Iterate through all chars in the sequence - n\n",
    "    for i in range(len(sequence) - n):\n",
    "\n",
    "        # Set index to 0\n",
    "        index = 0\n",
    "\n",
    "        # Check for head of a sequence -> start of a STR chain, a substring method\n",
    "        if sequence[i:i + n] == nucleotide:\n",
    "\n",
    "            # Create a counter and set it to 1 (count in the header too)\n",
    "            counter: int = 1\n",
    "\n",
    "            # Create a while loop to search for continuous chain following the header\n",
    "            while True:\n",
    "\n",
    "                # Increment the index by the length of the nucleotide\n",
    "                index += n\n",
    "\n",
    "                # Check whether the chain is continuous and not to pass the max. index (a corner case to prevent crash)\n",
    "                if sequence[i + index: i + index + n] == nucleotide and (i + index) < len(sequence):\n",
    "\n",
    "                    # Increment the counter for this chain\n",
    "                    counter += 1\n",
    "\n",
    "                # Otherwise break out of the loop and find another head\n",
    "                else:\n",
    "                    break\n",
    "\n",
    "            # Store all found chains (their lengths) corresponding to a particular nucleotide in a list\n",
    "            counters.append(counter)\n",
    "\n",
    "    # Return the biggest of them\n",
    "    return max(counters)"
   ],
   "outputs": [],
   "metadata": {}
  },
  {
   "cell_type": "markdown",
   "source": [
    "### Check function is supposed to return the name of a person or None (if not found)"
   ],
   "metadata": {}
  },
  {
   "cell_type": "code",
   "execution_count": 8,
   "source": [
    "# Create a check function (to output str or None)\n",
    "def check(comp_data, database) -> str or None:\n",
    "\n",
    "    # Compare the lists (transform database to a list containing all the keys, omit 'name')\n",
    "    if comp_data == list(database.values())[1:]:\n",
    "\n",
    "        # Return the name of the person\n",
    "        return database['name']\n",
    "    else:\n",
    "\n",
    "        # Otherwise return None\n",
    "        return\n"
   ],
   "outputs": [],
   "metadata": {}
  },
  {
   "cell_type": "markdown",
   "source": [
    "### Open selected files and handle possible errors\n",
    "__Usage:__\n",
    "\n",
    "<!-- Preview code in MD -->\n",
    "```python\n",
    "try:\n",
    "    file = open(path, \"#\")\n",
    "except OSError:\n",
    "    file_error(path)\n",
    "```\n",
    "\n",
    "[__Docs__][link1]\n",
    "\n",
    "[link1]:https://docs.python.org/3/tutorial/errors.html"
   ],
   "metadata": {}
  },
  {
   "cell_type": "code",
   "execution_count": 9,
   "source": [
    "# Open database file and handle possible errors\n",
    "try:\n",
    "    database_file = open(database_path, \"r\")\n",
    "except OSError:\n",
    "    file_error(database_path)\n",
    "\n",
    "# Open sequence file and handle possible errors\n",
    "try:\n",
    "    sequence_file = open(sequence_path, \"r\")\n",
    "except OSError:\n",
    "    file_error(sequence_path)\n"
   ],
   "outputs": [],
   "metadata": {}
  },
  {
   "cell_type": "markdown",
   "source": [
    "<!-- Explanation of used data structures -->\n",
    "## File structures\n",
    "\n",
    "### Database file\n",
    "Custom database of type [csv][ID1] containg gathered people and their occurence of particular [STR(s)][ID4]. \n",
    "\n",
    "<!-- TABLE with file structure -->\n",
    "__Structure:__\n",
    "\n",
    "| Name | STR1 | STR2 | ... | STRn |\n",
    "| :-:  | :--: | :--: | :-: | :--: |\n",
    "| Name | n    | n    | ... | n    |\n",
    "\n",
    "\\*Where `n` represents the numerical occurence of a specific __STR__ in person's DNA sequence.\n",
    "\n",
    "### Sequence file\n",
    "__DNA__ is just a sequence of nucleotides arranged in a shape! [[1]][ID2]\n",
    "\n",
    "__Structure:__\n",
    "\n",
    "```\n",
    "B1B2B3 ... Bn\n",
    "```\n",
    "\n",
    "\\*Where `B` represents an indexed base of DNA's nucleotide.\n",
    "\n",
    "<!-- TABLE with base pair division (in DNA)-->\n",
    "__Possible nucleotides:__\n",
    "\n",
    "| A | C | G | T |\n",
    "| :-: | :-: | :-: | :-: |\n",
    "| Adenine | Cytosine | Guanine | Thymine |\n",
    "\n",
    "[Source][ID3]\n",
    "\n",
    "<!-- REFS -->\n",
    "[ID1]: https://support.google.com/google-ads/answer/9004364?hl=en\n",
    "[ID2]: ttps://www.nature.com/scitable/topicpage/dna-is-a-structure-that-encodes-biological-6493050/\n",
    "[ID3]: https://www.genome.gov/genetics-glossary/Nucleotide\n",
    "[ID4]: https://www.future-science.com/doi/10.2144/000112582\n"
   ],
   "metadata": {}
  },
  {
   "cell_type": "code",
   "execution_count": 10,
   "source": [
    "# Continue with valid files\n",
    "with sequence_file:\n",
    "\n",
    "    # Read the dna sequence from the file (omit '\\n' and read only the first line)\n",
    "    sequence = sequence_file.readlines()[0].replace(\"\\n\", \"\")\n",
    "\n",
    "def repl(row) -> dict:\n",
    "    \"\"\"\n",
    "    Dictionary comprehension if-else structure\n",
    "    { (some_key if condition else default_key):(something_if_true if condition\n",
    "    else something_if_false) for key, value in dict_.items() }\n",
    "    \"\"\"\n",
    "\n",
    "    # Return each row from the csv file as a dict (and transform all str-to-int convertibles to ints)\n",
    "    data: dict = {key: (row[key] if not row[key].isdigit() else int(row[key])) for key in row}\n",
    "    return data\n",
    "\n",
    "# Load data from the dna database and call the repl function\n",
    "with database_file:\n",
    "\n",
    "    # Populate list with respective rows of type dict\n",
    "    dna_database: list = [repl(row) for row in csv.DictReader(database_file)]\n",
    "\n",
    "# Store possible nucleotides (omit 'name' key -> start from index 1)\n",
    "nucleotides: list = [key for key in dna_database[0]][1:]\n",
    "\n",
    "# Search for chains of repeating nucleotides\n",
    "computed_data: list = [compute(sequence, nucleotide) for nucleotide in nucleotides]\n",
    "\n",
    "# Call the check and store its outputs in a list (only append if not of type None)\n",
    "names: list = [check(computed_data, dna) for dna in dna_database if check(computed_data, dna) is not None]"
   ],
   "outputs": [],
   "metadata": {}
  },
  {
   "cell_type": "markdown",
   "source": [
    "## Content of input files\n",
    "\n",
    "In this section, `pandas` library will be used to display individual data sets using a `DataFrame`.\n",
    "\n",
    "__File structure(s)__ described above.\n",
    "\n",
    "- [Pandas DataFrame][DataFrame]\n",
    "\n",
    "Moreover, to display results of __DNA sequence__ in `Markdown`, `IPython` will be used.\n",
    "\n",
    "- [IPython.display][IPython]\n",
    "\n",
    "<!-- DOCS links -->\n",
    "[DataFrame]: https://pandas.pydata.org/docs/reference/api/pandas.DataFrame.html\n",
    "[IPython]: https://ipython.readthedocs.io/en/stable/api/generated/IPython.display.html"
   ],
   "metadata": {}
  },
  {
   "cell_type": "code",
   "execution_count": 11,
   "source": [
    "# Import pandas lib.\n",
    "from IPython.display import display, HTML\n",
    "import pandas as pd\n",
    "\n",
    "# Import IPython lib.\n",
    "from IPython.display import display, Markdown\n",
    "\n",
    "# Create a dataframe\n",
    "dt = pd.DataFrame(data=dna_database, index=[i + 1 for i in range(len(dna_database))])\n",
    "display(Markdown(\"#### DNA database\"))\n",
    "print(dt, end=\"\\n\" * 3)\n",
    "\n",
    "# Display sequence in markdown\n",
    "display(Markdown(f\"#### DNA sequence\\n`\\n{sequence}\\n`\"))"
   ],
   "outputs": [
    {
     "output_type": "display_data",
     "data": {
      "text/plain": [
       "<IPython.core.display.Markdown object>"
      ],
      "text/markdown": [
       "#### DNA database"
      ]
     },
     "metadata": {}
    },
    {
     "output_type": "stream",
     "name": "stdout",
     "text": [
      "     name  AGATC  TTTTTTCT  AATG  TCTAG  GATA  TATC  GAAA  TCTG\n",
      "1  Daniel     14        44    28     27    19     7    25    20\n",
      "2    Fero     29        29    40     31    45    20    40    35\n",
      "3  Michal      6        18     5     42    39    28    44    22\n",
      "4    Adam     37        47    13     25    17     6    13    35\n",
      "5  Rachel     29        27    32     41     6    27     8    34\n",
      "6    Mike     31        11    28     26    35    19    33     6\n",
      "\n",
      "\n"
     ]
    },
    {
     "output_type": "display_data",
     "data": {
      "text/plain": [
       "<IPython.core.display.Markdown object>"
      ],
      "text/markdown": [
       "#### DNA sequence\n",
       "```sh\n",
       "GGGTGAATCTCGGACAAAAGGGACCCAGTAATGGGAAAACACCCTGTACTTTCATTTATCTTAAGGAAAAGGCACTGCGACTTGTGACTGTTTTGTGCTTACCGGTCTGCTGACCACCTCCGCAAGATTCACCGGGCCCTCGCCCCTGGGCCCGCGGGGCTGTTTCCCCATTAATTCTGCACGGGCGAAGGCGGCCCCTCGGCCCGATAACGGACGTTGAAAGGCACCCAGTGTACCAACTCTATCGTTGTTAATCTCTAGTCTAGTCTAGTCTAGTCTAGTCTAGTCTAGTCTAGTCTAGTCTAGTCTAGTCTAGTCTAGTCTAGTCTAGTCTAGTCTAGTCTAGTCTAGTCTAGTCTAGTCTAGTCTAGTCTAGTCTAGTCTAGTATTACAGCGGCATCACTATACTATAATAGTCCGACATGTTAGAATTCTGACGCGTCGAACCGTAGGCGAGTCCGAGTTTCCTACTCCTCACGTGGTCAGAAGTCCCGCTCGAGGATACCGATAAGCCTGAATTCTTCATTTCTACTAACTCGACAGACTGACTCACGCTAGTTTGGTTACTGTCCCGTACCCGCGTTTTCCACCTTAGTCTTGCTGGCGTACACTTTCAAGCGATAGCATGCTTACAATAGGCTATTGCGACGTGTCCGATCCTACATGTACTCATATATCGCAACGGCCCAGGTTACTTAGGGACTAAACGGCCCTTTAAAGCGAGGGTAGTAGAATTCAGGCCACTGAAATTGGGATTATCTAATAAATCACCCGCCGCCGAGATAAGGCAGCTTACGAGTGAAGTTTGCATCACGTGCCTTTGTATTATTAATCTCGACTACCAACTCCTCAATTATAAGCAAGTTCGTTCATAAATAGTCAGATGCTTGGGGCGCATGCGGTATTGGAGTTGCCATGGTCTACACGCGGCCCTATGCAAACTTTTCTTAAGCGAGGAAGTCTTCCGTATTGCGTTGCATTTTCTCAATTGTTTTAGTCTTGTCGTAACCAATGCGGTAAGAATGCGTTTACAGGGCCGCGACCCCAACAATCCTTCCTTCGAGGAAGGTACTGAGTAGGGCTGGTCTATGCCGGTACTCCTTAGGTTGTTCACTCATGCCGATACCACTCTTGGTTTCTCACCCTTATTCTGGCACTGGTAAAAGATAAAGAGAACCTCCAGTCTAAGCGATTTACTTGGACACGCCCTTTTTGAAGTTCGGGCACACTCCGATTACCTAGAGCCCTAATGGGAGCCCGTAATTTCCAATAAAAGGAAAGTGGCTATCAAGCCATCCGCTCGAAGCACGTCATCCGGTACTTAGGTGTCCCTTGTGTCGCTTAATTAGATGTTGTACGAACGATATATACGGGCTAGGATAGATAGATAGATAGATAGATAGATAGATAGATAGATAGATAGATAGATAGATAGATAGATAGATAGATAGATAGATAGATAGATAGATAGATAGATAGATAGATAGATAGATAGATAGATAGATAGATAGATAGATACGTCCGGCATCCAGCTCGTCAATCTTTAAGTGGCGTCATCAGTAAGTGCACGTGGTCTTCCAAACCCTGTGGCGACACTATTAGACGTGGTCGGATCGGTCTTTATCTTTGGTTCTGTAGTAGGAGAACTCATGGGATGGTTATGGAGTTTGACTACAGCGTCTGGTCTCGGTAGTCCCCACACCCTCTAGCCCAACCACTAGAAAGTGACTAGTAATATGCGTTCTGCGAATCTCAGGGGTCAACCGTGACTATTGATCTTACCAGCGCATCGCTCCGCAAGCTCAGTAAATTTGATGTTTTTCCACAACCGAAAGAGCGATTAAGTACTGAACAAGAGTGTTAAGTCCAGTACTAACAATTAGATACATACTCGACTCGTAGAATCTTTCGTATTCCTGGTCGTACCCAGCAACGCCAGCAGAGTTTAGTCGACTGGTAGTTTGGAGTTTTCGAGGACGGAGACTGTGCATAAACTGTAGACATTCTGAAGCGCATGTCGGAGTGTATTCACGTGCACGCTCACCATGAGTTCAGGTCTATGGTGTCGGCGTTCACAAGTCCATAATCTGCGTCTCGTGACGTGACTTATCCCTTGTCACTCTAGTTGGACATCACAGTAGCGTTCGCCTCCTTCGTAATTCCTATCCCCAAAGAGAGTATTTCAATTAATACTCTAAACTCGAGCGCCGAGCGACACCATTCCATTCTAAATCTGGGGGCTCACGCGCTTTCAGTCGTCAATTTTATCGCGAAATAAACATGATCGCTATAAGATATCCCTTCCTCATCTGTTGCCCCAACCTGAGGCGTTCTAGACGTACACGATTAACGCGTTACGCGACAGCAGAATCGAGCTACGTGCAGAGCGTATCTGCGCCGGGGATCGCCGTAGAAGACGGCGCTAGCCAACCAGGGTTCGACGAACTGCCCTAGGAAACAAGCAAGCATGCTCGTGAGAGCAGGACCTTCTGCAGAAGATATTGCGATACATGAGTTTCTACGGTATTGGGTTATGGAATCTAAGAGGGCCAATGGAAATAGTAAGTTGGGGCGGATTATTTGAATACCGTTCGGTGGACTGTTTTCCGGAAGAGCGATGCCACCTCCTTGGTGTCTGCATCGAATAGATGCCCTGTCTTTCGTAATCGGTGAACCCATTAGTGACTCATTCGTGGCCGATACATTTACTTATACGTCTTGAGGCGCAGCAAGTCTAGTATGTCGTATAGAAAGCAGGTTTGCTTAGTTCGACTTAAGAGTGACGCTAGGTCACGAATTTCTCGTCCGGGGCATGTCAGAGATTGATTCCTTAGATACTGGCCAAACCGATACTACGCGTTGATAAGTGAACGACATGAAAGTTGACAACACCCTCTAGGGTTCGAACCAAAACAGAAAGTAGGAGCAACGTTCTCGGAGCACCACATCACTTGAACCGCCACTTCGACTTTCACCGAGTGACATAAAGACTAGTGGACCCCATCTGTTACCAATAAGGGGCGTGTAGATCAGCACTGGAATACAACACACGATGCCTCAGTCATCTCACTACGTGTCTCCTCGCTCCGCGTTCGCACTATTGCTCGCGCCCACCGCACACTACCGTGTTGAATGACGAAAGTTGCGGGGCTTACGCTCGGTGCAAAAGTTTCACATCTCTTGATAGCATTGGGCAACGCCGACGTATAGCTATGCAATTCACACGGCCGCAAAGCTATTTGACTGAACGTCTAGCATAGTGGTCAAACTGGCTCGAGCTAGATCTTGACGCACGTTCGGTATCTTGGAATTACCACCGGTACATGAGAGCAAAAGGGGAATCCTTGGTATGGAATTTACAAACCTGATCATCTTATTAGTGGTGTGATGAGATATCTTCATCTTTATAAACGTGGCGCGGCCACTTAGCGCTCAACGGCAATGAATGAATGAATGAATGAATGAATGAATGAATGAATGAATGAATGAATGAATGAATGAATGAATGAATGAATGAATGAATGAATGAATGAATGAATGAATGAATGAATGTTTTTTCTTTTTTTCTTTTTTTCTTTTTTTCTTTTTTTCTTTTTTTCTTTTTTTCTTTTTTTCTTTTTTTCTTTTTTTCTTTTTTTCTCCGTCGGCTCTGCGACGCGCGGAGTCAGTCTTCTGCCCCGGGGTCAGCCAGTCAAGACCTGCTGGGAAACGAAGAGAAAGAACAGTGCTAATGCAGGCTCCTCTGACGTCTATGTACTATAGCTTTTCCGCACGCGGAATCTGTCATTGCTACAAGCCGTGCCCAGGGCGAATATTCTGGCCGCACCAAAAGGAAAGAAAGAAAGAAAGAAAGAAAGAAAGAAAGAAAGAAAGAAAGAAAGAAAGAAAGAAAGAAAGAAAGAAAGAAAGAAAGAAAGAAAGAAAGAAAGAAAGAAAGAAAGAAAGAAAGAAAGAAAGAAAGAAACGGGGCTTTGCCGTCAATAGCACGAGCTGAGACGGGGAAGCCCGTATTTCATACAGGTCACGTTCAAGAGACAGCGCATTAAAGATCATGCGCGGAAGGGTTAGCAAGGTCGCAAAAGGAAACATTGTCTTTTTCAAAGGGGCCTCTGCCCCAGATCAGATCAGATCAGATCAGATCAGATCAGATCAGATCAGATCAGATCAGATCAGATCAGATCAGATCAGATCAGATCAGATCAGATCAGATCAGATCAGATCAGATCAGATCAGATCAGATCAGATCAGATCAGATCAGATCAGATCAGATCCAGATAAACACATGTCTTGCGTTTTCTCGCCTGTTACTGGCTCGGCTCGCCTATGTCTTTTATATAAAACTATAAGGGTGTCGTCTGCTCCGTTTGGTCGGCTGAACGAACCTATGTTCTGTCTTTACCACACTTTCTCCGTTGCAAGGCTCAACGCCCCCAATTTTAAAATGTTCGAGATTCTGTCTGTCTGTCTGTCTGTCTGAAGTTAATAACCGAAACGATCTAATTTACAGTAGACATGGGCGAATGGCGTAAGCAGACAGTGACCGATAACGCTTCCTCCGCGCAGTTGGCCCCGGCTGACTCAAGAGCGGTACGGTCGGCCTTCTTGGCCATAGCCTACACACATCTCAAATGTCGCAAAGCGAACTACCTGCACCGGAGTCCGGGAATCTACTGCACGTTGGGCCTCTTGTACTGATTGCTGCCCGCTACGAACTAGAGCATAATAAAACTTCCGCCGAACCATTGGACTGAGATCAGAGGTAGCTTGATATGGGATCAGAGTTAGTCGATCCAAGTGAAGCTTGTAAGCCAATAGATTGAACATAGGATCATATTACCCCCACCGGTCCCACATTGCTGGGACGGACCCTGTCAGAGAGAGATCTAAACATCATTTGGACTTTGCCTATCTGCGGGACACCACAGGAGCTCCCAGCGCACGAAAAGAGCGGATTCACTAATCCTCTGGCAGTCCTCTTGAGGCATGGTGGGGATGGGTAATTAAGTCGAGGCCGTAGCACGGGATCGGCAACACAAGAATGGCACAAAACATATTCCCTTAGCTCCAAGATGTCGTAGTAGTAGTAGGATGAGAGGCGTGTCATGGGTTCCGTAGTATAGTGCATGCCAACTGTCTTGAATGCTAATATAGATCTTGGAGGAAGCTGGATCGTTGGTCCCTCCGACAGACGATTAAATAGTGGCGTAGATCGCACAAAGTTGCATTAGCAAGCGGGGCGTATCTAGAGTTTACTGTGCTGTAGGATCGGCGCGCTAGCAACAAAAGATTATCCACACAACAGACGCCCTCTCATGTCATAGACCGTGGGGGGGTCCGCACTTTTGGATTGCTGCTATACTATAAGACTCGTCTATCAGAAAACTTCTCGATGGTCCGGAGCCTCAGGACACCCCCCTCACCCATCGCCGGGCAAATGGCTCACCTCGATAATTTTAATCAACGGTGAACATCCAATTCCACACGGAGAGAACCGTACGTCTCAAGATCACTGCTTGTTTAAAATTGCAGAGTAGACCGATTCCGTACTTTAGAATCCAGCGATCCCTCAGCATGTCCATTTGCTCGACTTAATCATGCTGGTATCTATCTATCTATCTATCTATCTATCTATCTATCTATCTATCTATCTATCTATCTATCTATCTATCTATCTATCGCCTCGCTATCGACGTCGCATACATGCTTAGTTCTTGCCCAAGTTGACTGACGATCTTAGTCATAGTCTCACACCTGATA\n",
       "```"
      ]
     },
     "metadata": {}
    }
   ],
   "metadata": {}
  },
  {
   "cell_type": "code",
   "execution_count": 12,
   "source": [
    "# If the list is not of size 1 -> no match\n",
    "if len(names) != 1:\n",
    "    print(\"No match\")\n",
    "else:\n",
    "\n",
    "    # Otherwise only 1 valid person was found -> print them out (in Markdown)\n",
    "    display(Markdown(f\"#### Person's name: {names[0]}\"))"
   ],
   "outputs": [
    {
     "output_type": "display_data",
     "data": {
      "text/plain": [
       "<IPython.core.display.Markdown object>"
      ],
      "text/markdown": [
       "#### Person's name: Mike"
      ]
     },
     "metadata": {}
    }
   ],
   "metadata": {}
  }
 ],
 "metadata": {
  "orig_nbformat": 4,
  "language_info": {
   "name": "python",
   "version": "3.9.4",
   "mimetype": "text/x-python",
   "codemirror_mode": {
    "name": "ipython",
    "version": 3
   },
   "pygments_lexer": "ipython3",
   "nbconvert_exporter": "python",
   "file_extension": ".py"
  },
  "kernelspec": {
   "name": "python3",
   "display_name": "Python 3.9.4 64-bit"
  },
  "interpreter": {
   "hash": "aee8b7b246df8f9039afb4144a1f6fd8d2ca17a180786b69acc140d282b71a49"
  }
 },
 "nbformat": 4,
 "nbformat_minor": 2
}